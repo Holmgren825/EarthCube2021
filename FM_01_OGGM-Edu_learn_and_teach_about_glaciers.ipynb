{
 "cells": [
  {
   "cell_type": "markdown",
   "metadata": {},
   "source": [
    "# OGGM-Edu - Jupyter notebooks to learn and teach about glaciers"
   ]
  },
  {
   "cell_type": "markdown",
   "metadata": {},
   "source": [
    "## Authors\n",
    "\n",
    "- Author1 = {\"name\": \"Fabien Maussion\", \"affiliation\": \"University of Innsbruck\", \"email\": \"fabien.maussion@uibk.ac.at\", \"orcid\": \"http://orcid.org/0000-0002-3211-506X\"}\n",
    "- Author2 = {\"name\": \"\", \"\": \"\", \"email\": \"\", \"orcid\": \"\"}\n",
    "- Author3 = ..."
   ]
  },
  {
   "cell_type": "markdown",
   "metadata": {
    "toc": true
   },
   "source": [
    "<h1>Table of Contents<span class=\"tocSkip\"></span></h1>\n",
    "<div class=\"toc\"><ul class=\"toc-item\"><li><span><a href=\"#OGGM-Edu---Jupyter-notebooks-to-learn-and-teach-about-glaciers\" data-toc-modified-id=\"OGGM-Edu---Jupyter-notebooks-to-learn-and-teach-about-glaciers-1\"><span class=\"toc-item-num\">1&nbsp;&nbsp;</span>OGGM-Edu - Jupyter notebooks to learn and teach about glaciers</a></span><ul class=\"toc-item\"><li><span><a href=\"#Authors\" data-toc-modified-id=\"Authors-1.1\"><span class=\"toc-item-num\">1.1&nbsp;&nbsp;</span>Authors</a></span></li><li><span><a href=\"#Purpose\" data-toc-modified-id=\"Purpose-1.2\"><span class=\"toc-item-num\">1.2&nbsp;&nbsp;</span>Purpose</a></span></li><li><span><a href=\"#Technical-contributions\" data-toc-modified-id=\"Technical-contributions-1.3\"><span class=\"toc-item-num\">1.3&nbsp;&nbsp;</span>Technical contributions</a></span></li><li><span><a href=\"#Methodology\" data-toc-modified-id=\"Methodology-1.4\"><span class=\"toc-item-num\">1.4&nbsp;&nbsp;</span>Methodology</a></span></li><li><span><a href=\"#Results\" data-toc-modified-id=\"Results-1.5\"><span class=\"toc-item-num\">1.5&nbsp;&nbsp;</span>Results</a></span></li><li><span><a href=\"#Funding\" data-toc-modified-id=\"Funding-1.6\"><span class=\"toc-item-num\">1.6&nbsp;&nbsp;</span>Funding</a></span></li><li><span><a href=\"#Keywords\" data-toc-modified-id=\"Keywords-1.7\"><span class=\"toc-item-num\">1.7&nbsp;&nbsp;</span>Keywords</a></span></li><li><span><a href=\"#Citation\" data-toc-modified-id=\"Citation-1.8\"><span class=\"toc-item-num\">1.8&nbsp;&nbsp;</span>Citation</a></span></li><li><span><a href=\"#Work-In-Progress---improvements\" data-toc-modified-id=\"Work-In-Progress---improvements-1.9\"><span class=\"toc-item-num\">1.9&nbsp;&nbsp;</span>Work In Progress - improvements</a></span></li><li><span><a href=\"#Suggested-next-steps\" data-toc-modified-id=\"Suggested-next-steps-1.10\"><span class=\"toc-item-num\">1.10&nbsp;&nbsp;</span>Suggested next steps</a></span></li><li><span><a href=\"#Acknowledgements\" data-toc-modified-id=\"Acknowledgements-1.11\"><span class=\"toc-item-num\">1.11&nbsp;&nbsp;</span>Acknowledgements</a></span></li></ul></li><li><span><a href=\"#Setup\" data-toc-modified-id=\"Setup-2\"><span class=\"toc-item-num\">2&nbsp;&nbsp;</span>Setup</a></span><ul class=\"toc-item\"><li><span><a href=\"#Library-import\" data-toc-modified-id=\"Library-import-2.1\"><span class=\"toc-item-num\">2.1&nbsp;&nbsp;</span>Library import</a></span></li><li><span><a href=\"#The-10-rules\" data-toc-modified-id=\"The-10-rules-2.2\"><span class=\"toc-item-num\">2.2&nbsp;&nbsp;</span>The 10 rules</a></span></li></ul></li><li><span><a href=\"#References\" data-toc-modified-id=\"References-3\"><span class=\"toc-item-num\">3&nbsp;&nbsp;</span>References</a></span></li></ul></div>"
   ]
  },
  {
   "cell_type": "markdown",
   "metadata": {},
   "source": [
    "## Purpose\n",
    "\n",
    "OGGM-Edu (http://edu.oggm.org) is an educational platform providing instructors with tools that allow the demonstration of the governing principles of glacier behaviour. It offers online interactive apps and Jupyter notebooks that can be run in a browser via MyBinder or JupyterHub. \n",
    "\n",
    "This notebook demonstrates how an open source numerical glacier model ([OGGM](http://oggm.org)) can be used to tackle scientific and socially-relevant research questions in class assignments and student projects. It is built on two complementary numerical experiments: \n",
    "1. the first section uses idealized glaciers (with controlled boundary conditions) to illustrate how climate and topography influence glacier behavior, and\n",
    "2. the second section relies on realistic glaciers to illustrate how downstream freshwater resources will be affected by glacier change in the future. \n",
    "\n",
    "The notebook contains code sections that serve as templates, followed by research questions and suggestions that invite the student to re-run the experiment with updated simulation parameters. This notebook (as well as all other similar notebooks featured on the OGGM-Edu platform) is meant to be adapted by teachers to match the topics of a specific lecture or workshop. Interested readers will find more example notebooks [on OGGM-Edu](https://edu.oggm.org/en/latest/notebooks_index.html).\n",
    "\n",
    "OGGM-Edu's notebooks can help students to overcome barriers posed by numerical modelling and coding, in a fun, question-driven and societally relevant way.\n",
    "\n",
    "\n",
    "## Technical contributions\n",
    "\n",
    "- teach about fundamental concepts in glaciology in a modern, fun and interactive way\n",
    "- a complex numerical model is used and abstracted (simplified) for teaching purposes\n",
    "- open and reproducible: the notebooks are all licensed with BSD3, we use openly available docker environments to run the notebooks\n",
    "\n",
    "\n",
    "## Methodology\n",
    "\n",
    "The notebook relies on a number of standard packages of the scientific python ecosytem: numpy, scipy, xarray, pandas, etc. The main tool used for the modelling of glaciers is the Open Global Glacier Model (OGGM, http://oggm.org, https://docs.oggm.org). We also rely on a small number of helper functions (mostly to hide some of the OGGM internals to the learners) from the oggm-edu python package. For more details about OGGM-Edu, visit https://edu.oggm.org.\n",
    "\n",
    "## Results\n",
    "\n",
    "The main outcome of this example notebook is a template, that can be used in glaciology workshops and classes. Example applications include a three-day workshop in Peru for university students without prior experience in glaciology ([repository](https://github.com/ehultee/CdeC-glaciologia), [more info](https://oggm.org/2019/12/06/OGGM-Edu-AGU/)) or the University of Michigan CLaSP 474 [Ice and Climate notebooks](https://github.com/skachuck/clasp474_w2021).\n",
    "\n",
    "\n",
    "## Funding\n",
    "\n",
    "- Award1 = {\"agency\": \"University of Innsbruck\", \"award_code\": \"Förderkreis 1669 – Wissen schafft Gesell schaft\", \"award_URL\": \"https://www.uibk.ac.at/foerderkreis1669\"}\n",
    "- Award2 = {\"agency\": \"Bundesministerium für Bildung und Forschung - BMBF\", \"award_code\": \"FKZ 01LS1602A\", \"award_URL\": \"https://www.bmbf.de\"}\n",
    "\n",
    "\n",
    "## Keywords\n",
    "\n",
    "keywords=[\"glaciers\", \"climate\", \"education\", \"python\", \"numerical model\"]\n",
    "\n",
    "## Citation\n",
    "\n",
    "Maussion, F., Holmgren, E., Nicholson, L., Ultee, L., Schirmeister, Z., Schmitt, P., Schuster, L.. OGGM-Edu - Jupyter notebooks to learn and teach about glaciers. Jupyter Notebook accessed 07.05.2021 at https://github.com/OGGM/EarthCube2021\n",
    "\n",
    "## Suggested next steps\n",
    "\n",
    "Visit https://edu.oggm.org and try the other notebooks there!\n",
    "\n",
    "## Acknowledgements \n",
    "\n",
    "Thanks to the OGGM and OGGM-Edu developpers, and all the open-source tools used in this notebook. Most notably: numpy, scipy, matplotlib, pandas, geopandas, xarray... Thanks to EarthCube for this opportunity."
   ]
  },
  {
   "cell_type": "markdown",
   "metadata": {},
   "source": [
    "# Setup\n",
    "\n",
    "## Library import"
   ]
  },
  {
   "cell_type": "code",
   "execution_count": null,
   "metadata": {},
   "outputs": [],
   "source": [
    "# import oggm-edu helper package\n",
    "import oggm_edu as edu\n",
    "\n",
    "# import modules, constants and set plotting defaults\n",
    "import matplotlib.pyplot as plt\n",
    "plt.rcParams['figure.figsize'] = (9, 6)  # Default plot size\n",
    "\n",
    "# Scientific packages\n",
    "import numpy as np\n",
    "\n",
    "# Constants\n",
    "from oggm import cfg\n",
    "cfg.initialize_minimal()\n",
    "\n",
    "# OGGM mass-balance models\n",
    "from oggm.core.massbalance import LinearMassBalance\n",
    "\n",
    "# There are several numerical implementations in OGGM core. We use the \"FluxBasedModel\"\n",
    "from oggm.core.flowline import FluxBasedModel as FlowlineModel"
   ]
  },
  {
   "cell_type": "markdown",
   "metadata": {},
   "source": [
    "# Part 1: idealized glacier experiments"
   ]
  },
  {
   "cell_type": "markdown",
   "metadata": {},
   "source": [
    "# Part 2: real-world glacier experiments"
   ]
  },
  {
   "cell_type": "markdown",
   "metadata": {},
   "source": [
    "# References\n",
    "List relevant references.\n",
    "\n",
    "1. Notebook sharing guidelines from reproducible-science-curriculum: https://reproducible-science-curriculum.github.io/publication-RR-Jupyter/\n",
    "2. Guide for developing shareable notebooks by Kevin Coakley, SDSC: https://github.com/kevincoakley/sharing-jupyter-notebooks/raw/master/Jupyter-Notebooks-Sharing-Recommendations.pdf\n",
    "3. Guide for sharing notebooks by Andrea Zonca, SDSC: https://zonca.dev/2020/09/how-to-share-jupyter-notebooks.html\n",
    "4. Jupyter Notebook Best Practices: https://towardsdatascience.com/jupyter-notebook-best-practices-f430a6ba8c69\n",
    "5. Introduction to Jupyter templates nbextension: https://towardsdatascience.com/stop-copy-pasting-notebooks-embrace-jupyter-templates-6bd7b6c00b94  \n",
    "    5.1. Table of Contents (Toc2) readthedocs: https://jupyter-contrib-nbextensions.readthedocs.io/en/latest/nbextensions/toc2/README.html  \n",
    "    5.2. Steps to install toc2: https://stackoverflow.com/questions/23435723/installing-ipython-notebook-table-of-contents\n",
    "6. Rule A, Birmingham A, Zuniga C, Altintas I, Huang SC, et al. (2019) Ten simple rules for writing and sharing computational analyses in Jupyter Notebooks. PLOS Computational Biology 15(7): e1007007. https://doi.org/10.1371/journal.pcbi.1007007. Supplementary materials: example notebooks (https://github.com/jupyter-guide/ten-rules-jupyter) and tutorial (https://github.com/ISMB-ECCB-2019-Tutorial-AM4/reproducible-computational-workflows)\n",
    "7. Languages supported by Jupyter kernels: https://github.com/jupyter/jupyter/wiki/Jupyter-kernels\n",
    "8. EarthCube notebooks presented at EC Annual Meeting 2020: https://www.earthcube.org/notebooks\n",
    "9. Manage your Python Virtual Environment with Conda: https://towardsdatascience.com/manage-your-python-virtual-environment-with-conda-a0d2934d5195\n",
    "10. Venv - Creation of Virtual Environments: https://docs.python.org/3/library/venv.html"
   ]
  }
 ],
 "metadata": {
  "kernelspec": {
   "display_name": "Python 3",
   "language": "python",
   "name": "python3"
  },
  "language_info": {
   "codemirror_mode": {
    "name": "ipython",
    "version": 3
   },
   "file_extension": ".py",
   "mimetype": "text/x-python",
   "name": "python",
   "nbconvert_exporter": "python",
   "pygments_lexer": "ipython3",
   "version": "3.8.5"
  },
  "toc": {
   "base_numbering": 1,
   "nav_menu": {},
   "number_sections": true,
   "sideBar": true,
   "skip_h1_title": false,
   "title_cell": "Table of Contents",
   "title_sidebar": "Contents",
   "toc_cell": true,
   "toc_position": {
    "height": "calc(100% - 180px)",
    "left": "10px",
    "top": "150px",
    "width": "248.182px"
   },
   "toc_section_display": true,
   "toc_window_display": true
  }
 },
 "nbformat": 4,
 "nbformat_minor": 4
}
