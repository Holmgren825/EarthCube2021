{
 "cells": [
  {
   "cell_type": "markdown",
   "metadata": {},
   "source": [
    "# OGGM-Edu - Jupyter notebooks to learn and teach about glaciers"
   ]
  },
  {
   "cell_type": "markdown",
   "metadata": {},
   "source": [
    "## Authors\n",
    "\n",
    "- Author1 = {\"name\": \"Fabien Maussion\", \"affiliation\": \"University of Innsbruck\", \"email\": \"fabien.maussion@uibk.ac.at\", \"orcid\": \"http://orcid.org/0000-0002-3211-506X\"}\n",
    "- Author2 = {\"name\": \"\", \"\": \"\", \"email\": \"\", \"orcid\": \"\"}\n",
    "- Author3 = ..."
   ]
  },
  {
   "cell_type": "markdown",
   "metadata": {
    "toc": true
   },
   "source": [
    "<h1>Table of Contents<span class=\"tocSkip\"></span></h1>\n",
    "<div class=\"toc\"><ul class=\"toc-item\"><li><span><a href=\"#OGGM-Edu---Jupyter-notebooks-to-learn-and-teach-about-glaciers\" data-toc-modified-id=\"OGGM-Edu---Jupyter-notebooks-to-learn-and-teach-about-glaciers-1\"><span class=\"toc-item-num\">1&nbsp;&nbsp;</span>OGGM-Edu - Jupyter notebooks to learn and teach about glaciers</a></span><ul class=\"toc-item\"><li><span><a href=\"#Authors\" data-toc-modified-id=\"Authors-1.1\"><span class=\"toc-item-num\">1.1&nbsp;&nbsp;</span>Authors</a></span></li><li><span><a href=\"#Purpose\" data-toc-modified-id=\"Purpose-1.2\"><span class=\"toc-item-num\">1.2&nbsp;&nbsp;</span>Purpose</a></span></li><li><span><a href=\"#Technical-contributions\" data-toc-modified-id=\"Technical-contributions-1.3\"><span class=\"toc-item-num\">1.3&nbsp;&nbsp;</span>Technical contributions</a></span></li><li><span><a href=\"#Methodology\" data-toc-modified-id=\"Methodology-1.4\"><span class=\"toc-item-num\">1.4&nbsp;&nbsp;</span>Methodology</a></span></li><li><span><a href=\"#Results\" data-toc-modified-id=\"Results-1.5\"><span class=\"toc-item-num\">1.5&nbsp;&nbsp;</span>Results</a></span></li><li><span><a href=\"#Funding\" data-toc-modified-id=\"Funding-1.6\"><span class=\"toc-item-num\">1.6&nbsp;&nbsp;</span>Funding</a></span></li><li><span><a href=\"#Keywords\" data-toc-modified-id=\"Keywords-1.7\"><span class=\"toc-item-num\">1.7&nbsp;&nbsp;</span>Keywords</a></span></li><li><span><a href=\"#Citation\" data-toc-modified-id=\"Citation-1.8\"><span class=\"toc-item-num\">1.8&nbsp;&nbsp;</span>Citation</a></span></li><li><span><a href=\"#Suggested-next-steps\" data-toc-modified-id=\"Suggested-next-steps-1.9\"><span class=\"toc-item-num\">1.9&nbsp;&nbsp;</span>Suggested next steps</a></span></li><li><span><a href=\"#Acknowledgements\" data-toc-modified-id=\"Acknowledgements-1.10\"><span class=\"toc-item-num\">1.10&nbsp;&nbsp;</span>Acknowledgements</a></span></li></ul></li><li><span><a href=\"#Setup\" data-toc-modified-id=\"Setup-2\"><span class=\"toc-item-num\">2&nbsp;&nbsp;</span>Setup</a></span><ul class=\"toc-item\"><li><span><a href=\"#Library-import\" data-toc-modified-id=\"Library-import-2.1\"><span class=\"toc-item-num\">2.1&nbsp;&nbsp;</span>Library import</a></span></li></ul></li><li><span><a href=\"#Part-1:-idealized-glacier-experiments\" data-toc-modified-id=\"Part-1:-idealized-glacier-experiments-3\"><span class=\"toc-item-num\">3&nbsp;&nbsp;</span>Part 1: idealized glacier experiments</a></span><ul class=\"toc-item\"><li><span><a href=\"#Glacier-flowlines\" data-toc-modified-id=\"Glacier-flowlines-3.1\"><span class=\"toc-item-num\">3.1&nbsp;&nbsp;</span>Glacier flowlines</a></span></li><li><span><a href=\"#Mass-balance\" data-toc-modified-id=\"Mass-balance-3.2\"><span class=\"toc-item-num\">3.2&nbsp;&nbsp;</span>Mass balance</a></span></li><li><span><a href=\"#Glacier-in-Equilibrium\" data-toc-modified-id=\"Glacier-in-Equilibrium-3.3\"><span class=\"toc-item-num\">3.3&nbsp;&nbsp;</span>Glacier in Equilibrium</a></span></li><li><span><a href=\"#Advancing-Glacier\" data-toc-modified-id=\"Advancing-Glacier-3.4\"><span class=\"toc-item-num\">3.4&nbsp;&nbsp;</span>Advancing Glacier</a></span></li><li><span><a href=\"#Retreating-Glacier\" data-toc-modified-id=\"Retreating-Glacier-3.5\"><span class=\"toc-item-num\">3.5&nbsp;&nbsp;</span>Retreating Glacier</a></span></li></ul></li><li><span><a href=\"#Part-2:-real-world-glacier-experiments\" data-toc-modified-id=\"Part-2:-real-world-glacier-experiments-4\"><span class=\"toc-item-num\">4&nbsp;&nbsp;</span>Part 2: real-world glacier experiments</a></span></li><li><span><a href=\"#References\" data-toc-modified-id=\"References-5\"><span class=\"toc-item-num\">5&nbsp;&nbsp;</span>References</a></span></li></ul></div>"
   ]
  },
  {
   "cell_type": "markdown",
   "metadata": {},
   "source": [
    "## Purpose\n",
    "\n",
    "OGGM-Edu (http://edu.oggm.org) is an educational platform providing instructors with tools that allow the demonstration of the governing principles of glacier behaviour. It offers online interactive apps and Jupyter notebooks that can be run in a browser via MyBinder or JupyterHub. \n",
    "\n",
    "This notebook demonstrates how an open source numerical glacier model ([OGGM](http://oggm.org)) can be used to tackle scientific and socially-relevant research questions in class assignments and student projects. It is built on two complementary numerical experiments: \n",
    "1. the first section uses idealized glaciers (with controlled boundary conditions) to illustrate how climate and topography influence glacier behavior, and\n",
    "2. the second section relies on realistic glaciers to illustrate how downstream freshwater resources will be affected by glacier change in the future. \n",
    "\n",
    "The notebook contains code sections that serve as templates, followed by research questions and suggestions that invite the student to re-run the experiment with updated simulation parameters. This notebook (as well as all other similar notebooks featured on the OGGM-Edu platform) is meant to be adapted by teachers to match the topics of a specific lecture or workshop. Interested readers will find more example notebooks [on OGGM-Edu](https://edu.oggm.org/en/latest/notebooks_index.html).\n",
    "\n",
    "OGGM-Edu's notebooks can help students to overcome barriers posed by numerical modelling and coding, in a fun, question-driven and societally relevant way.\n",
    "\n",
    "\n",
    "## Technical contributions\n",
    "\n",
    "- teach about fundamental concepts in glaciology in a modern, fun and interactive way\n",
    "- a complex numerical model is used and abstracted (simplified) for teaching purposes\n",
    "- open and reproducible: the notebooks are all licensed with BSD3, we use openly available docker environments to run the notebooks\n",
    "\n",
    "\n",
    "## Methodology\n",
    "\n",
    "The notebook relies on a number of standard packages of the scientific python ecosytem: numpy, scipy, xarray, pandas, etc. The main tool used for the modelling of glaciers is the Open Global Glacier Model (OGGM, http://oggm.org, https://docs.oggm.org). We also rely on a small number of helper functions (mostly to hide some of the OGGM internals to the learners) from the oggm-edu python package. For more details about OGGM-Edu, visit https://edu.oggm.org.\n",
    "\n",
    "## Results\n",
    "\n",
    "The main outcome of this example notebook is a template, that can be used in glaciology workshops and classes. Example applications include a three-day workshop in Peru for university students without prior experience in glaciology ([repository](https://github.com/ehultee/CdeC-glaciologia), [more info](https://oggm.org/2019/12/06/OGGM-Edu-AGU/)) or the University of Michigan CLaSP 474 [Ice and Climate notebooks](https://github.com/skachuck/clasp474_w2021).\n",
    "\n",
    "\n",
    "## Funding\n",
    "\n",
    "- Award1 = {\"agency\": \"University of Innsbruck\", \"award_code\": \"Förderkreis 1669 – Wissen schafft Gesell schaft\", \"award_URL\": \"https://www.uibk.ac.at/foerderkreis1669\"}\n",
    "- Award2 = {\"agency\": \"Bundesministerium für Bildung und Forschung - BMBF\", \"award_code\": \"FKZ 01LS1602A\", \"award_URL\": \"https://www.bmbf.de\"}\n",
    "\n",
    "\n",
    "## Keywords\n",
    "\n",
    "keywords=[\"glaciers\", \"climate\", \"education\", \"python\", \"numerical model\"]\n",
    "\n",
    "## Citation\n",
    "\n",
    "Maussion, F., Holmgren, E., Nicholson, L., Ultee, L., Schirmeister, Z., Schmitt, P., Schuster, L.. OGGM-Edu - Jupyter notebooks to learn and teach about glaciers. Jupyter Notebook accessed 07.05.2021 at https://github.com/OGGM/EarthCube2021\n",
    "\n",
    "## Suggested next steps\n",
    "\n",
    "Visit https://edu.oggm.org and try the other notebooks there!\n",
    "\n",
    "## Acknowledgements \n",
    "\n",
    "Thanks to the OGGM and OGGM-Edu developpers, and all the open-source tools used in this notebook. Most notably: numpy, scipy, matplotlib, pandas, geopandas, xarray... Thanks to EarthCube for this opportunity."
   ]
  },
  {
   "cell_type": "markdown",
   "metadata": {},
   "source": [
    "# Setup\n",
    "\n",
    "## Library import"
   ]
  },
  {
   "cell_type": "code",
   "execution_count": null,
   "metadata": {},
   "outputs": [],
   "source": [
    "# import oggm-edu helper package\n",
    "import oggm_edu as edu\n",
    "\n",
    "# import modules, constants and set plotting defaults\n",
    "import matplotlib.pyplot as plt\n",
    "plt.rcParams['figure.figsize'] = (9, 6)  # Default plot size\n",
    "\n",
    "# Scientific packages\n",
    "import numpy as np\n",
    "\n",
    "# Constants\n",
    "from oggm import cfg\n",
    "cfg.initialize_minimal()\n",
    "\n",
    "# OGGM flowline model\n",
    "from oggm.core.flowline import RectangularBedFlowline\n",
    "\n",
    "# OGGM mass-balance model\n",
    "from oggm.core.massbalance import LinearMassBalance\n",
    "\n",
    "# There are several numerical implementations in OGGM core. We use the \"FluxBasedModel\"\n",
    "from oggm.core.flowline import FluxBasedModel as FlowlineModel"
   ]
  },
  {
   "cell_type": "markdown",
   "metadata": {},
   "source": [
    "# Part 1: idealized glacier experiments"
   ]
  },
  {
   "cell_type": "markdown",
   "metadata": {},
   "source": [
    "This part of the notebook shows how idealized glacier geometries can be used to explore the influence of a changing climate. For the glacier flow simulation the Open Global Glacier Model (OGGM, http://oggm.org, https://docs.oggm.org) is used.\n",
    "\n",
    "Goals of this part:\n",
    "- learn how to define an idealized flowline glacier\n",
    "- understand the concept of mass balance and in particular what the equilibrium line altitude (ELA) describes\n",
    "- understand the influence of glacier mass balance on the ELA\n",
    "- be able to explain glacier advance and retreat in response to a change in the ELA"
   ]
  },
  {
   "cell_type": "markdown",
   "metadata": {},
   "source": [
    "## Glacier flowlines"
   ]
  },
  {
   "cell_type": "markdown",
   "metadata": {},
   "source": [
    "OGGM is a “flowline model”, which means that the glacier ice flow is assumed to happen along a representative “1.5D” flowline, as in the image below. “1.5D” here is used to emphasize that although glacier ice can flow only in one direction along the flowline, each point of the glacier has a geometrical width. This width means that flowline glaciers are able to match the observed area-elevation distribution of true glaciers, and can parametrize the changes in glacier width with thickness changes.\n",
    "\n",
    "<img src=\"https://docs.oggm.org/en/stable/_images/hef_flowline.jpg\" width=\"60%\">"
   ]
  },
  {
   "cell_type": "markdown",
   "metadata": {},
   "source": [
    "The first step for the experiment is now to define our idealized glacier geometry with:\n",
    "- linear glacier bed heights\n",
    "- widths with a trapezoidal shape at glacier top, starting from larger widths and decreasing until a certain point is reached\n",
    "- below this point constant widths"
   ]
  },
  {
   "cell_type": "code",
   "execution_count": null,
   "metadata": {},
   "outputs": [],
   "source": [
    "# This function could be integrated in OGGM Edu,\n",
    "# I made this to separate the definition of the geometry from the definition of the mass balance,\n",
    "# as it is kind of mixed in the function 'linear_mb_equilibrium' from the oggm_edu package\n",
    "def define_widths_with_trapezoidal_shape_at_top(topw, bottomw, nx, nz, map_dx):  \n",
    "    # accumulation area occupies a fraction NZ of the total glacier extent\n",
    "    acc_width = np.linspace(topw, bottomw, int(nx * nz))\n",
    "\n",
    "    # ablation area occupies a fraction 1 - NZ of the total glacier extent\n",
    "    abl_width = np.tile(bottomw, nx - len(acc_width))\n",
    "\n",
    "    # glacier widths profile\n",
    "    widths = np.hstack([acc_width, abl_width])\n",
    "\n",
    "    return widths"
   ]
  },
  {
   "cell_type": "code",
   "execution_count": null,
   "metadata": {},
   "outputs": [],
   "source": [
    "# define horizontal resolution of the model:\n",
    "# nx: number of grid points\n",
    "# map_dx: grid point spacing in meters\n",
    "nx = 200\n",
    "map_dx = 200\n",
    "\n",
    "# define glacier top and bottom altitudes in meters\n",
    "top = 5000 \n",
    "bottom = 0\n",
    "\n",
    "# create a linear bedrock profile from top to bottom\n",
    "bed_h, surface_h = edu.define_linear_bed(top, bottom, nx)\n",
    "\n",
    "# calculate the distance from the top to the bottom of the glacier in km\n",
    "distance_along_glacier = edu.distance_along_glacier(nx, map_dx)\n",
    "\n",
    "# glacier width at the top of the accumulation area: m\n",
    "ACCW = 1000\n",
    "\n",
    "# glacier width at the equilibrium line altitude: m\n",
    "ELAW = 500\n",
    "\n",
    "# fraction of vertical grid points occupied by accumulation area\n",
    "NZ = 1 / 3\n",
    "\n",
    "# create the widths with a \n",
    "widths = define_widths_with_trapezoidal_shape_at_top(topw=ACCW,\n",
    "                                                     bottomw=ELAW,\n",
    "                                                     nx=nx,\n",
    "                                                     nz=NZ,\n",
    "                                                     map_dx=map_dx)\n",
    "\n",
    "# plot the idealized glacier\n",
    "edu.plot_glacier_3d(distance_along_glacier, bed_h, widths, nx);"
   ]
  },
  {
   "cell_type": "markdown",
   "metadata": {},
   "source": [
    "Now we have defined the principle look of our glacier, the only thing left is now to define the shape of our cross-section. OGGM supports three different shapes rectangular, parabolic and trapezoidal. For our experiment we go with the rectangular one:"
   ]
  },
  {
   "cell_type": "code",
   "execution_count": null,
   "metadata": {},
   "outputs": [],
   "source": [
    "# describe the widths in \"grid points\" for the model, based on grid point spacing map_dx\n",
    "mwidths = np.zeros(nx) + widths / map_dx\n",
    "\n",
    "# define the glacier flowline\n",
    "init_flowline = RectangularBedFlowline(surface_h=surface_h,\n",
    "                                       bed_h=bed_h,\n",
    "                                       widths=mwidths,\n",
    "                                       map_dx=map_dx)"
   ]
  },
  {
   "cell_type": "markdown",
   "metadata": {},
   "source": [
    "## Mass balance"
   ]
  },
  {
   "cell_type": "markdown",
   "metadata": {},
   "source": [
    "The **mass balance** is the result of several processes that either add mass to the glacier (**accumulation**) or remove mass from the glacier (**ablation**).\n",
    "\n",
    "*The following glacier images are taken from the [open glacier graphics](http://edu.oggm.org/en/latest/glacier_basics.html) on OGGM-Edu, made by Anne Maussion, [Atelier les Gros yeux](http://atelierlesgrosyeux.com/)*.\n",
    "\n",
    "<img src=\"https://raw.githubusercontent.com/OGGM/glacier-graphics/master/glacier_intro/png/glacier_03.png\" width=\"33%\" align=\"left\">\n",
    "<img src=\"https://raw.githubusercontent.com/OGGM/glacier-graphics/master/glacier_intro/png/glacier_04.png\" width=\"33%\" align=\"left\">\n",
    "<img src=\"https://raw.githubusercontent.com/OGGM/glacier-graphics/master/glacier_intro/png/glacier_05.png\" width=\"33%\" align=\"left\">"
   ]
  },
  {
   "cell_type": "markdown",
   "metadata": {},
   "source": [
    "The rates of accumulation and ablation processes, summed over the glacier and over time, determine the *glacier mass balance*: $\\dot{m}$, the change in total mass of snow and ice,"
   ]
  },
  {
   "cell_type": "markdown",
   "metadata": {},
   "source": [
    "$$\\dot{m} = \\text{accumulation} + \\text{ablation}.$$"
   ]
  },
  {
   "cell_type": "markdown",
   "metadata": {},
   "source": [
    "Since accumulation and ablation generally vary with height, also the glacier mass balance is a function of elevation,"
   ]
  },
  {
   "cell_type": "markdown",
   "metadata": {},
   "source": [
    "$$\\dot{m}(z) = \\text{accumulation}(z) + \\text{ablation}(z).$$"
   ]
  },
  {
   "cell_type": "markdown",
   "metadata": {},
   "source": [
    "Mass is continuously redistributed in a glacier: accumulated mass at the top of the glacier is transported downglacier. The driving force of this *ice flow* is gravity. Thus, the mass balance of a region on a glacier depends not only on the mass exchanges induced by accumulation and ablation, but also on the gravity driven transport of ice from the acccumulation area to the ablation area. The *ice flow* is indicated by the grey arrow in this figure:\n",
    "\n",
    "<img src=\"https://raw.githubusercontent.com/OGGM/glacier-graphics/master/glacier_intro/png/glacier_06.png\" width=\"60%\">"
   ]
  },
  {
   "cell_type": "markdown",
   "metadata": {},
   "source": [
    "The altitude where $\\dot{m}(z) = 0$ is called the *equilibrium line altitude*, short ELA. Hence, the ELA is the altitude where accumulation processes and ablation processes balance each other - in theory. However, in reality the ELA does not exactly exist and can only be approximated."
   ]
  },
  {
   "cell_type": "markdown",
   "metadata": {},
   "source": [
    "<img src=\"https://raw.githubusercontent.com/OGGM/glacier-graphics/master/glacier_intro/png/glacier_07.png\" width=\"60%\">"
   ]
  },
  {
   "cell_type": "markdown",
   "metadata": {},
   "source": [
    "For this experiment we define a linear mass balance model of the form"
   ]
  },
  {
   "cell_type": "markdown",
   "metadata": {},
   "source": [
    "$$\\dot{m}(z) = (z - ELA) \\frac{d\\dot{m}}{dz},$$"
   ]
  },
  {
   "cell_type": "markdown",
   "metadata": {},
   "source": [
    "with the mass balance gradient $\\frac{d\\dot{m}}{dz}$:"
   ]
  },
  {
   "cell_type": "code",
   "execution_count": null,
   "metadata": {
    "scrolled": true
   },
   "outputs": [],
   "source": [
    "# mass balance gradient with respect to elevation in mm w.e. m^-1 yr^-1\n",
    "mb_grad = 7\n",
    "\n",
    "# equilibrium line altitude: height where the glacier width first hits ELAW\n",
    "ela = bed_h[np.where(widths==ELAW)[0][0]]\n",
    "print('ELA: {:.2f} m'.format(ela))\n",
    "\n",
    "# defining the mass balance model\n",
    "mb_model = LinearMassBalance(ela, grad=mb_grad)"
   ]
  },
  {
   "cell_type": "markdown",
   "metadata": {},
   "source": [
    "Now that we have all the ingredients to run the model, we just have to initialize it:"
   ]
  },
  {
   "cell_type": "code",
   "execution_count": null,
   "metadata": {},
   "outputs": [],
   "source": [
    "# The model requires the initial glacier bed, a mass balance model, and an initial time (the year y0)\n",
    "model = FlowlineModel(init_flowline, mb_model=mb_model, y0=0., min_dt=0, cfl_number=0.01)"
   ]
  },
  {
   "cell_type": "markdown",
   "metadata": {},
   "source": [
    "## Glacier in Equilibrium"
   ]
  },
  {
   "cell_type": "markdown",
   "metadata": {},
   "source": [
    "For a glacier to be in equilibrium, we require the specific mass balance (accumulation + ablation) to be zero averaged over a year on the glacier. But this doesn't mean that the mass-balance is zero everywhere! A very classic situation looks like the image below: positive mass-balance at the top (more accumulation, less ablation) and negative at the tongue (less accumulation, more ablation).\n",
    "\n",
    "<img src=\"https://raw.githubusercontent.com/OGGM/glacier-graphics/master/glacier_intro/png/glacier_05.png\" width=\"60%\">"
   ]
  },
  {
   "cell_type": "markdown",
   "metadata": {},
   "source": [
    "Let's run the model until our test glacier is in equilibrium:"
   ]
  },
  {
   "cell_type": "code",
   "execution_count": null,
   "metadata": {},
   "outputs": [],
   "source": [
    "model.run_until_equilibrium()"
   ]
  },
  {
   "cell_type": "markdown",
   "metadata": {},
   "source": [
    "Now, we use a linear accumulation and ablation function from the oggm-edu package for the calculation of the net mass balance (= glacier mass distribution without considering *ice flow*):"
   ]
  },
  {
   "cell_type": "code",
   "execution_count": null,
   "metadata": {},
   "outputs": [],
   "source": [
    "# get the equilibrium surface height of our test glacier in equilibrium\n",
    "initial = model.fls[0].surface_h\n",
    "\n",
    "# accumulation and ablation balance each other\n",
    "acc, acc_0 = edu.linear_accumulation(mb_grad, ela, initial, bed_h, mwidths)\n",
    "abl, abl_0 = edu.linear_ablation(mb_grad, ela, initial, bed_h, mwidths, acc_0)"
   ]
  },
  {
   "cell_type": "markdown",
   "metadata": {},
   "source": [
    "``acc_0`` and ``abl_0`` are the accumulation and the ablation at the ELA, respectively - by construction, they should be equal:"
   ]
  },
  {
   "cell_type": "code",
   "execution_count": null,
   "metadata": {},
   "outputs": [],
   "source": [
    "print('Mass balance at the ELA: {:.2f} m w.e. yr^-1'.format(float(acc_0 - abl_0)))"
   ]
  },
  {
   "cell_type": "markdown",
   "metadata": {},
   "source": [
    "Now, we can define the glacier surface after accumulation and ablation, respectively."
   ]
  },
  {
   "cell_type": "code",
   "execution_count": null,
   "metadata": {},
   "outputs": [],
   "source": [
    "# accumulation and ablation surfaces\n",
    "acc_sfc = initial + acc\n",
    "abl_sfc = initial + abl"
   ]
  },
  {
   "cell_type": "markdown",
   "metadata": {},
   "source": [
    "The mass balance is then just the sum of accumulation and ablation:"
   ]
  },
  {
   "cell_type": "code",
   "execution_count": null,
   "metadata": {},
   "outputs": [],
   "source": [
    "# net mass balance m w.e yr^-1\n",
    "mb_we = acc + abl"
   ]
  },
  {
   "cell_type": "markdown",
   "metadata": {},
   "source": [
    "Near the terminus ablation may totally remove the ice, hence, we need to correct \"negative\" ice thickness to the glacier bed:"
   ]
  },
  {
   "cell_type": "code",
   "execution_count": null,
   "metadata": {},
   "outputs": [],
   "source": [
    "# mass balance surface corrected to the bed where ice thickness is negative\n",
    "mb_sfc = edu.correct_to_bed(bed_h, initial + mb_we)"
   ]
  },
  {
   "cell_type": "markdown",
   "metadata": {},
   "source": [
    "The next figure shows the glacier surface after applying the net mass balance."
   ]
  },
  {
   "cell_type": "code",
   "execution_count": null,
   "metadata": {},
   "outputs": [],
   "source": [
    "# plot the model glacier\n",
    "fig, ax = plt.subplots(1, 1, figsize=(16, 9))\n",
    "edu.intro_glacier_plot(ax, distance_along_glacier, bed_h, initial, [mb_sfc], ['net mass balance'], ela=[ela], plot_ela=True)"
   ]
  },
  {
   "cell_type": "markdown",
   "metadata": {},
   "source": [
    "Now we have set the scene to model glacier advance and retreat."
   ]
  },
  {
   "cell_type": "markdown",
   "metadata": {},
   "source": [
    "## Advancing Glacier"
   ]
  },
  {
   "cell_type": "markdown",
   "metadata": {},
   "source": [
    "Maybe continue with 'Advancing' from advance_and_retreat notebook"
   ]
  },
  {
   "cell_type": "markdown",
   "metadata": {},
   "source": [
    "## Retreating Glacier"
   ]
  },
  {
   "cell_type": "markdown",
   "metadata": {},
   "source": [
    "Maybe continue with 'Retreating' from advance_and_retreat notebook"
   ]
  },
  {
   "cell_type": "markdown",
   "metadata": {},
   "source": [
    "# Part 2: real-world glacier experiments"
   ]
  },
  {
   "cell_type": "markdown",
   "metadata": {},
   "source": [
    "# References\n",
    "List relevant references.\n",
    "\n",
    "1. Notebook sharing guidelines from reproducible-science-curriculum: https://reproducible-science-curriculum.github.io/publication-RR-Jupyter/\n",
    "2. Guide for developing shareable notebooks by Kevin Coakley, SDSC: https://github.com/kevincoakley/sharing-jupyter-notebooks/raw/master/Jupyter-Notebooks-Sharing-Recommendations.pdf\n",
    "3. Guide for sharing notebooks by Andrea Zonca, SDSC: https://zonca.dev/2020/09/how-to-share-jupyter-notebooks.html\n",
    "4. Jupyter Notebook Best Practices: https://towardsdatascience.com/jupyter-notebook-best-practices-f430a6ba8c69\n",
    "5. Introduction to Jupyter templates nbextension: https://towardsdatascience.com/stop-copy-pasting-notebooks-embrace-jupyter-templates-6bd7b6c00b94  \n",
    "    5.1. Table of Contents (Toc2) readthedocs: https://jupyter-contrib-nbextensions.readthedocs.io/en/latest/nbextensions/toc2/README.html  \n",
    "    5.2. Steps to install toc2: https://stackoverflow.com/questions/23435723/installing-ipython-notebook-table-of-contents\n",
    "6. Rule A, Birmingham A, Zuniga C, Altintas I, Huang SC, et al. (2019) Ten simple rules for writing and sharing computational analyses in Jupyter Notebooks. PLOS Computational Biology 15(7): e1007007. https://doi.org/10.1371/journal.pcbi.1007007. Supplementary materials: example notebooks (https://github.com/jupyter-guide/ten-rules-jupyter) and tutorial (https://github.com/ISMB-ECCB-2019-Tutorial-AM4/reproducible-computational-workflows)\n",
    "7. Languages supported by Jupyter kernels: https://github.com/jupyter/jupyter/wiki/Jupyter-kernels\n",
    "8. EarthCube notebooks presented at EC Annual Meeting 2020: https://www.earthcube.org/notebooks\n",
    "9. Manage your Python Virtual Environment with Conda: https://towardsdatascience.com/manage-your-python-virtual-environment-with-conda-a0d2934d5195\n",
    "10. Venv - Creation of Virtual Environments: https://docs.python.org/3/library/venv.html"
   ]
  }
 ],
 "metadata": {
  "kernelspec": {
   "display_name": "Python 3",
   "language": "python",
   "name": "python3"
  },
  "language_info": {
   "codemirror_mode": {
    "name": "ipython",
    "version": 3
   },
   "file_extension": ".py",
   "mimetype": "text/x-python",
   "name": "python",
   "nbconvert_exporter": "python",
   "pygments_lexer": "ipython3",
   "version": "3.8.6"
  },
  "toc": {
   "base_numbering": 1,
   "nav_menu": {},
   "number_sections": true,
   "sideBar": true,
   "skip_h1_title": false,
   "title_cell": "Table of Contents",
   "title_sidebar": "Contents",
   "toc_cell": true,
   "toc_position": {
    "height": "calc(100% - 180px)",
    "left": "10px",
    "top": "150px",
    "width": "248.182px"
   },
   "toc_section_display": true,
   "toc_window_display": true
  }
 },
 "nbformat": 4,
 "nbformat_minor": 4
}
