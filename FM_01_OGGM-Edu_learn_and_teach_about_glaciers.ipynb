{
 "cells": [
  {
   "cell_type": "markdown",
   "metadata": {},
   "source": [
    "# OGGM-Edu - Jupyter notebooks to learn and teach about glaciers"
   ]
  },
  {
   "cell_type": "markdown",
   "metadata": {},
   "source": [
    "## Authors\n",
    "\n",
    "**Fabien Maussion, Erik Holmgren, Lindsey Nicholson, Lizz Ultee, Zora Schirmeister, Patrick Schmitt, Lilian Schuster**\n",
    "\n",
    "- Author1 = {\"name\": \"Fabien Maussion\", \"affiliation\": \"University of Innsbruck\", \"email\": \"fabien.maussion@uibk.ac.at\", \"orcid\": \"https://orcid.org/0000-0002-3211-506X\"}\n",
    "- Author2 = {\"name\": \"Erik Holmgren\", \"affiliation\": \"University of Innsbruck\", \"email\": \"erik.holmgren@student.uibk.ac.at\", \"orcid\": \"\"}\n",
    "- Author3 = {\"name\": \"Lindsey Nicholson\", \"affiliation\": \"University of Innsbruck\", \"email\": \"lindsey.nicholson@uibk.ac.at\", \"orcid\": \"https://orcid.org/0000-0003-0430-7950\"}\n",
    "- Author4 = {\"name\": \"Lindsey Nicholson\", \"affiliation\": \"University of Innsbruck\", \"email\": \"fabien.maussion@uibk.ac.at\", \"orcid\": \"https://orcid.org/0000-0002-3211-506X\"}\n",
    "- Author5 = {\"name\": \"Lizz Ultee\", \"affiliation\": \"Georgia Tech\", \"email\": \"eultee3@gatech.edu\", \"orcid\": \"https://orcid.org/0000-0002-8780-3089\"}\n",
    "- Author6 = {\"name\": \"Zora Schirmeister\", \"affiliation\": \"University of Innsbruck\", \"email\": \"zora.schirmeister@student.uibk.ac.at\", \"orcid\": \"\"}\n",
    "- Author7 = {\"name\": \"Patrick Schmitt\", \"affiliation\": \"University of Innsbruck\", \"email\": \"patrick.schmitt@student.uibk.ac.at\", \"orcid\": \"\"}\n",
    "- Author8 = {\"name\": \"Lilian Schuster\", \"affiliation\": \"University of Innsbruck\", \"email\": \"lilian.schuster@student.uibk.ac.at\", \"orcid\": \"https://orcid.org/0000-0003-2101-2070\"}"
   ]
  },
  {
   "cell_type": "markdown",
   "metadata": {
    "toc": true
   },
   "source": [
    "<h1>Table of Contents<span class=\"tocSkip\"></span></h1>\n",
    "<div class=\"toc\"><ul class=\"toc-item\"><li><span><a href=\"#OGGM-Edu---Jupyter-notebooks-to-learn-and-teach-about-glaciers\" data-toc-modified-id=\"OGGM-Edu---Jupyter-notebooks-to-learn-and-teach-about-glaciers-1\"><span class=\"toc-item-num\">1&nbsp;&nbsp;</span>OGGM-Edu - Jupyter notebooks to learn and teach about glaciers</a></span><ul class=\"toc-item\"><li><span><a href=\"#Authors\" data-toc-modified-id=\"Authors-1.1\"><span class=\"toc-item-num\">1.1&nbsp;&nbsp;</span>Authors</a></span></li><li><span><a href=\"#Purpose\" data-toc-modified-id=\"Purpose-1.2\"><span class=\"toc-item-num\">1.2&nbsp;&nbsp;</span>Purpose</a></span></li><li><span><a href=\"#Technical-contributions\" data-toc-modified-id=\"Technical-contributions-1.3\"><span class=\"toc-item-num\">1.3&nbsp;&nbsp;</span>Technical contributions</a></span></li><li><span><a href=\"#Methodology\" data-toc-modified-id=\"Methodology-1.4\"><span class=\"toc-item-num\">1.4&nbsp;&nbsp;</span>Methodology</a></span></li><li><span><a href=\"#Results\" data-toc-modified-id=\"Results-1.5\"><span class=\"toc-item-num\">1.5&nbsp;&nbsp;</span>Results</a></span></li><li><span><a href=\"#Funding\" data-toc-modified-id=\"Funding-1.6\"><span class=\"toc-item-num\">1.6&nbsp;&nbsp;</span>Funding</a></span></li><li><span><a href=\"#Keywords\" data-toc-modified-id=\"Keywords-1.7\"><span class=\"toc-item-num\">1.7&nbsp;&nbsp;</span>Keywords</a></span></li><li><span><a href=\"#Citation\" data-toc-modified-id=\"Citation-1.8\"><span class=\"toc-item-num\">1.8&nbsp;&nbsp;</span>Citation</a></span></li><li><span><a href=\"#Suggested-next-steps\" data-toc-modified-id=\"Suggested-next-steps-1.9\"><span class=\"toc-item-num\">1.9&nbsp;&nbsp;</span>Suggested next steps</a></span></li><li><span><a href=\"#Acknowledgements\" data-toc-modified-id=\"Acknowledgements-1.10\"><span class=\"toc-item-num\">1.10&nbsp;&nbsp;</span>Acknowledgements</a></span></li></ul></li><li><span><a href=\"#Setup\" data-toc-modified-id=\"Setup-2\"><span class=\"toc-item-num\">2&nbsp;&nbsp;</span>Setup</a></span></li><li><span><a href=\"#Part-1:-idealized-glacier-experiments\" data-toc-modified-id=\"Part-1:-idealized-glacier-experiments-3\"><span class=\"toc-item-num\">3&nbsp;&nbsp;</span>Part 1: idealized glacier experiments</a></span><ul class=\"toc-item\"><li><span><a href=\"#Glacier-flowlines\" data-toc-modified-id=\"Glacier-flowlines-3.1\"><span class=\"toc-item-num\">3.1&nbsp;&nbsp;</span>Glacier flowlines</a></span></li><li><span><a href=\"#Glacier-mass-balance\" data-toc-modified-id=\"Glacier-mass-balance-3.2\"><span class=\"toc-item-num\">3.2&nbsp;&nbsp;</span>Glacier mass balance</a></span></li><li><span><a href=\"#A-first-run\" data-toc-modified-id=\"A-first-run-3.3\"><span class=\"toc-item-num\">3.3&nbsp;&nbsp;</span>A first run</a></span></li><li><span><a href=\"#Experiment:-influence-of-the-mass-balance-gradient-on-glacier-size\" data-toc-modified-id=\"Experiment:-influence-of-the-mass-balance-gradient-on-glacier-size-3.4\"><span class=\"toc-item-num\">3.4&nbsp;&nbsp;</span>Experiment: influence of the mass balance gradient on glacier size</a></span><ul class=\"toc-item\"><li><span><a href=\"#Bonus:-temporal-evolution-of-the-glaciers\" data-toc-modified-id=\"Bonus:-temporal-evolution-of-the-glaciers-3.4.1\"><span class=\"toc-item-num\">3.4.1&nbsp;&nbsp;</span>Bonus: temporal evolution of the glaciers</a></span></li></ul></li><li><span><a href=\"#Exercise:-influence-of-glacier-slope\" data-toc-modified-id=\"Exercise:-influence-of-glacier-slope-3.5\"><span class=\"toc-item-num\">3.5&nbsp;&nbsp;</span>Exercise: influence of glacier slope</a></span></li></ul></li><li><span><a href=\"#Part-2:-real-world-glacier-experiments\" data-toc-modified-id=\"Part-2:-real-world-glacier-experiments-4\"><span class=\"toc-item-num\">4&nbsp;&nbsp;</span>Part 2: real-world glacier experiments</a></span><ul class=\"toc-item\"><li><span><a href=\"#Glaciers-as-water-resources\" data-toc-modified-id=\"Glaciers-as-water-resources-4.1\"><span class=\"toc-item-num\">4.1&nbsp;&nbsp;</span>Glaciers as water resources</a></span></li></ul></li><li><span><a href=\"#References\" data-toc-modified-id=\"References-5\"><span class=\"toc-item-num\">5&nbsp;&nbsp;</span>References</a></span></li></ul></div>"
   ]
  },
  {
   "cell_type": "markdown",
   "metadata": {},
   "source": [
    "## Purpose\n",
    "\n",
    "OGGM-Edu (http://edu.oggm.org) is an educational platform providing instructors with tools that allow the demonstration of the governing principles of glacier behaviour. It offers online interactive apps and Jupyter notebooks that can be run in a browser via MyBinder or JupyterHub. \n",
    "\n",
    "This notebook demonstrates how an open source numerical glacier model ([OGGM](http://oggm.org)) can be used to tackle scientific and socially-relevant research questions in class assignments and student projects. It is built on two independent numerical experiments:\n",
    "1. the first section uses idealized glaciers (with controlled boundary conditions) to illustrate how climate and topography influence glacier behavior, and\n",
    "2. the second section relies on realistic glaciers to illustrate how downstream freshwater resources will be affected by glacier change in the future. \n",
    "\n",
    "The notebook contains code sections that serve as templates, followed by research questions and suggestions that invite the student to re-run the experiment with updated simulation parameters. This notebook (as well as all other similar notebooks featured on the OGGM-Edu platform) is meant to be adapted by teachers to match the topics of a specific lecture or workshop. Interested readers will find more example notebooks [on OGGM-Edu](https://edu.oggm.org/en/latest/notebooks_index.html).\n",
    "\n",
    "OGGM-Edu's notebooks can help students to overcome barriers posed by numerical modelling and coding, in a fun, question-driven and societally relevant way.\n",
    "\n",
    "\n",
    "## Technical contributions\n",
    "\n",
    "- teach about fundamental concepts in glaciology in a modern, fun and interactive way\n",
    "- a numerical model used in research is used and abstracted (simplified) for teaching purposes\n",
    "- open and reproducible: the notebooks are all licensed with BSD3, and they can be run in openly available docker environments or on MyBinder\n",
    "\n",
    "## Methodology\n",
    "\n",
    "The notebook relies on a number of standard packages of the scientific python ecosytem: numpy, scipy, xarray, pandas, etc. The main tool used for the modelling of glaciers is the Open Global Glacier Model (OGGM, http://oggm.org, https://docs.oggm.org). We also rely on a small number of helper functions (mostly to hide some of the OGGM internals to the learners) from the oggm-edu python package. For more details about OGGM-Edu, visit https://edu.oggm.org.\n",
    "\n",
    "## Results\n",
    "\n",
    "The main outcome of this example notebook is a template, that can be used in glaciology workshops and classes. Example applications include a three-day workshop in Peru for university students without prior experience in glaciology ([repository](https://github.com/ehultee/CdeC-glaciologia), [more info](https://oggm.org/2019/12/06/OGGM-Edu-AGU/)) or the University of Michigan CLaSP 474 [Ice and Climate notebooks](https://github.com/skachuck/clasp474_w2021).\n",
    "\n",
    "\n",
    "## Funding\n",
    "\n",
    "- Award1 = {\"agency\": \"University of Innsbruck\", \"award_code\": \"Förderkreis 1669 – Wissen schafft Gesell schaft\", \"award_URL\": \"https://www.uibk.ac.at/foerderkreis1669\"}\n",
    "- Award2 = {\"agency\": \"Bundesministerium für Bildung und Forschung - BMBF\", \"award_code\": \"FKZ 01LS1602A\", \"award_URL\": \"https://www.bmbf.de\"}\n",
    "\n",
    "\n",
    "## Keywords\n",
    "\n",
    "keywords=[\"glaciers\", \"climate\", \"education\", \"python\", \"numerical model\"]\n",
    "\n",
    "## Citation\n",
    "\n",
    "Maussion, F., Holmgren, E., Nicholson, L., Ultee, L., Schirmeister, Z., Schmitt, P., Schuster, L.. OGGM-Edu - Jupyter notebooks to learn and teach about glaciers. Jupyter Notebook accessed 07.05.2021 at https://github.com/OGGM/EarthCube2021\n",
    "\n",
    "## Suggested next steps\n",
    "\n",
    "Visit https://edu.oggm.org and try the other notebooks there!\n",
    "\n",
    "## Acknowledgements \n",
    "\n",
    "Thanks to the OGGM and OGGM-Edu developpers, and all the open-source tools used in this notebook. Most notably: numpy, scipy, matplotlib, pandas, geopandas, xarray... Thanks to EarthCube for this opportunity."
   ]
  },
  {
   "cell_type": "markdown",
   "metadata": {},
   "source": [
    "# Setup\n"
   ]
  },
  {
   "cell_type": "code",
   "execution_count": null,
   "metadata": {},
   "outputs": [],
   "source": [
    "# import oggm-edu helper package\n",
    "import oggm_edu as edu\n",
    "\n",
    "# Plotting libraries and plot style\n",
    "import matplotlib.pyplot as plt\n",
    "%matplotlib inline\n",
    "\n",
    "import seaborn as sns\n",
    "sns.set_context('notebook')\n",
    "sns.set_style('ticks')\n",
    "\n",
    "# Scientific packages\n",
    "import numpy as np\n",
    "import pandas as pd\n",
    "\n",
    "# Constants\n",
    "from oggm import cfg\n",
    "# Initialize OGGM and do not write on screen\n",
    "cfg.initialize_minimal(logging_level='CRITICAL')\n",
    "# Prevent numerical inaccuracies\n",
    "cfg.PARAMS['cfl_number'] = 5e-3\n",
    "# Store only the relevant variables here\n",
    "cfg.PARAMS['store_diagnostic_variables'] = ['volume', 'area', 'length']\n",
    "\n",
    "# OGGM flowline model\n",
    "from oggm.core.flowline import RectangularBedFlowline\n",
    "\n",
    "# OGGM mass-balance model\n",
    "from oggm.core.massbalance import LinearMassBalance\n",
    "\n",
    "# There are several numerical implementations in OGGM core. We use the \"FluxBasedModel\"\n",
    "from oggm.core.flowline import FluxBasedModel as FlowlineModel"
   ]
  },
  {
   "cell_type": "markdown",
   "metadata": {},
   "source": [
    "# Part 1: idealized glacier experiments"
   ]
  },
  {
   "cell_type": "markdown",
   "metadata": {},
   "source": [
    "This part of the notebook shows how idealized glacier geometries can be used to explore basic principles of ice flow and glacier behavior.\n",
    "\n",
    "It is inspired from the OGGM-Edu notebooks \"[Glacier flowline modelling](https://edu.oggm.org/en/latest/notebooks/flowline_intro.html)\", \"[Ice flow parameters](https://edu.oggm.org/en/latest/notebooks/ice_flow_parameters.html)\" and \"[Mass balance gradient](https://edu.oggm.org/en/latest/notebooks/mass_balance_gradient.html)\"."
   ]
  },
  {
   "cell_type": "markdown",
   "metadata": {},
   "source": [
    "## Glacier flowlines"
   ]
  },
  {
   "cell_type": "markdown",
   "metadata": {},
   "source": [
    "OGGM is a “flowline model”, which means that the glacier ice flow is assumed to happen along a representative “1.5D” flowline, as in the image below. “1.5D” here is used to emphasize that although glacier ice can flow only in one direction along the flowline, each point of the glacier has a geometrical width. This width means that flowline glaciers are able to match the observed area-elevation distribution of true glaciers, and can parametrize the changes in glacier width with thickness changes.\n",
    "\n",
    "<img src=\"https://docs.oggm.org/en/stable/_images/hef_flowline.jpg\" width=\"40%\">"
   ]
  },
  {
   "cell_type": "markdown",
   "metadata": {},
   "source": [
    "The first step for the experiment is now to define our idealized glacier geometry with OGGM:"
   ]
  },
  {
   "cell_type": "code",
   "execution_count": null,
   "metadata": {},
   "outputs": [],
   "source": [
    "# define horizontal resolution of the model:\n",
    "# nx: number of grid points\n",
    "# map_dx: grid point spacing in meters\n",
    "nx = 200\n",
    "map_dx = 100\n",
    "\n",
    "# define glacier top and bottom altitudes in meters\n",
    "top = 3400\n",
    "bottom = 1400\n",
    "\n",
    "# create a linear bedrock profile from top to bottom\n",
    "bed_h, surface_h = edu.define_linear_bed(top, bottom, nx)\n",
    "\n",
    "# glacier width in meters\n",
    "initial_width = 600\n",
    "\n",
    "# calculate the distance from the top to the bottom of the glacier in km\n",
    "distance_along_glacier = edu.distance_along_glacier(nx, map_dx)\n",
    "\n",
    "# Now describe the widths in units of \"grid points\" for the model, based on grid point spacing map_dx\n",
    "widths = np.zeros(nx) + initial_width/map_dx\n",
    "\n",
    "# Define our glacier flowine\n",
    "init_flowline = RectangularBedFlowline(surface_h=surface_h, bed_h=bed_h, widths=widths, map_dx=map_dx)"
   ]
  },
  {
   "cell_type": "markdown",
   "metadata": {},
   "source": [
    "We created the geometry of our glacier. It is very simple: ice will flow along a constant slope, and the glacier bed shape is constant as well (\"U-shaped\", called [rectangular](http://docs.oggm.org/en/stable/ice-dynamics.html#rectangular) in the model)."
   ]
  },
  {
   "cell_type": "code",
   "execution_count": null,
   "metadata": {},
   "outputs": [],
   "source": [
    "# plot the glacier bedrock profile and the initial glacier surface\n",
    "plt.plot(distance_along_glacier, surface_h, label='Initial glacier')\n",
    "edu.plot_xz_bed(x=distance_along_glacier, bed=bed_h);"
   ]
  },
  {
   "cell_type": "markdown",
   "metadata": {},
   "source": [
    "The `init_flowline` variable now contains all geometrical information needed by the model. It can give access to some attributes, which are quite useless for a non-existing glacier: "
   ]
  },
  {
   "cell_type": "code",
   "execution_count": null,
   "metadata": {},
   "outputs": [],
   "source": [
    "print('Glacier length:', init_flowline.length_m)\n",
    "print('Glacier area:', init_flowline.area_km2)\n",
    "print('Glacier volume:', init_flowline.volume_km3)"
   ]
  },
  {
   "cell_type": "markdown",
   "metadata": {},
   "source": [
    "## Glacier mass balance"
   ]
  },
  {
   "cell_type": "markdown",
   "metadata": {},
   "source": [
    "Then we will need a mass balance model. To simplify things here, glaciers will gain mass via solid precipitation and loose mass via melt. To learn more about mass-balance processes, visit our [mass balance notebook](https://edu.oggm.org/en/latest/notebooks/accumulation_and_ablation.html).\n",
    "\n",
    "To simplify things even more, we will use a simple linear function to describe the mass balance, defined by the [equilibrium line altitude](http://www.antarcticglaciers.org/glacier-processes/mass-balance/introduction-glacier-mass-balance/) (ELA) and a mass-balance change with altitude (gradient, unit [mm yr$^{-1}$ m$^{-1}$]):"
   ]
  },
  {
   "cell_type": "code",
   "execution_count": null,
   "metadata": {},
   "outputs": [],
   "source": [
    "# ELA at 3000m a.s.l., gradient 4 mm yr -1 m-1\n",
    "ELA = 3000  # equilibrium line altitude in meters above sea level\n",
    "altgrad = 4  # altitude gradient in mm/m\n",
    "mb_model = LinearMassBalance(ELA, grad=altgrad)"
   ]
  },
  {
   "cell_type": "markdown",
   "metadata": {},
   "source": [
    "The OGGM mass balance model computes the mass balance for any given altitude (in units meters of ice per time [m s$^{-1}$], which is simpler for the ice dynamics model). Bow let us compute the *annual* mass balance along the glacier profile:"
   ]
  },
  {
   "cell_type": "code",
   "execution_count": null,
   "metadata": {},
   "outputs": [],
   "source": [
    "annual_mb = mb_model.get_annual_mb(surface_h) * cfg.SEC_IN_YEAR\n",
    "\n",
    "# Plot it\n",
    "plt.plot(annual_mb, bed_h, color='C2', label='Mass balance')\n",
    "plt.xlabel('Annual mass balance (m yr-1)')\n",
    "plt.ylabel('Altitude (m)')\n",
    "plt.legend(loc='best')\n",
    "\n",
    "# Display equilibrium line altitude, where annual mass balance = 0\n",
    "plt.axvline(x=0, color='k', linestyle='--', linewidth=0.8)\n",
    "plt.axhline(y=mb_model.ela_h, color='k', linestyle='--', linewidth=0.8);"
   ]
  },
  {
   "cell_type": "markdown",
   "metadata": {},
   "source": [
    "These values are not too far from actually observed values of accumulation and melt in many regions of the world."
   ]
  },
  {
   "cell_type": "markdown",
   "metadata": {},
   "source": [
    "## A first run "
   ]
  },
  {
   "cell_type": "markdown",
   "metadata": {},
   "source": [
    "Now let our glacier grow in these climate and topography conditions. Let's build our glacier evolution model, which is simply a combination of the initial bed topography (the flowline) and the climate (the mass balance model):"
   ]
  },
  {
   "cell_type": "code",
   "execution_count": null,
   "metadata": {},
   "outputs": [],
   "source": [
    "# The model requires the initial glacier bed, a mass balance model, and an initial time (the year y0)\n",
    "glacier_model = FlowlineModel(init_flowline, mb_model=mb_model, y0=0.)"
   ]
  },
  {
   "cell_type": "code",
   "execution_count": null,
   "metadata": {},
   "outputs": [],
   "source": [
    "# Let's run the model for a number of years, and store the output\n",
    "_, ds = glacier_model.run_until_and_store(600)"
   ]
  },
  {
   "cell_type": "markdown",
   "metadata": {},
   "source": [
    "The model output is stored in an [xarray](http://xarray.pydata.org) dataset. Fortunately, it makes exploring the output relatively easy:\n",
    "\n",
    "*Tip: click on the variables and the icons on the right to explore their attributes*"
   ]
  },
  {
   "cell_type": "code",
   "execution_count": null,
   "metadata": {},
   "outputs": [],
   "source": [
    "ds"
   ]
  },
  {
   "cell_type": "markdown",
   "metadata": {},
   "source": [
    "Now let's plot the glacier attributes length, area and volume over time:"
   ]
  },
  {
   "cell_type": "code",
   "execution_count": null,
   "metadata": {},
   "outputs": [],
   "source": [
    "f, (ax1, ax2, ax3) = plt.subplots(1, 3, figsize=(18, 5))\n",
    "ds.length_m.plot(ax=ax1);\n",
    "ax1.set_xlabel('Years'); ax1.set_ylabel('Length (m)');\n",
    "(ds.area_m2 * 1e-6) .plot(ax=ax2);\n",
    "ax2.set_xlabel('Years'); ax2.set_ylabel('Area (km$^2$)');\n",
    "(ds.volume_m3 * 1e-9) .plot(ax=ax3);\n",
    "ax3.set_xlabel('Years'); ax3.set_ylabel('Volume (km$^3$)');"
   ]
  },
  {
   "cell_type": "markdown",
   "metadata": {},
   "source": [
    "The first year of the simulation sees a big step increase in length and area: this is simply because the mass balance is positive at the top of the glacier, and we go from no glacier at all to a thin, but already 4 km long glacier. After this, the glacier constantly grows until reaching an equilibrium, which happens when the mass gain at the top of the glacier is compensated by mass loss at the tongue.\n",
    "\n",
    "Do you see the small steps in length and area (specifically after the year 400)? This is because the length of a glacier in OGGM is defined by gridpoints of a specific grid size, i.e the step size.\n",
    "\n",
    "How does a glacier at equilibrium look like? Let's have a look:"
   ]
  },
  {
   "cell_type": "code",
   "execution_count": null,
   "metadata": {},
   "outputs": [],
   "source": [
    "# Get the glacier geometry at the end of the simulation\n",
    "geometry = glacier_model.get_diagnostics()"
   ]
  },
  {
   "cell_type": "markdown",
   "metadata": {},
   "source": [
    "The output of `get_diagnostics()` is a [Pandas]() dataframe, which is very descriptive. We won't have a look at all output variables today, but here is an overview: "
   ]
  },
  {
   "cell_type": "code",
   "execution_count": null,
   "metadata": {},
   "outputs": [],
   "source": [
    "geometry.head()"
   ]
  },
  {
   "cell_type": "code",
   "execution_count": null,
   "metadata": {},
   "outputs": [],
   "source": [
    "geometry.bed_h.plot(color='k', linestyle=':', label='Bedrock')\n",
    "geometry.surface_h.plot(label='Glacier surface');\n",
    "plt.legend(); plt.xlabel('Distance along flowline [m]'); plt.ylabel('Altitude [m]'); "
   ]
  },
  {
   "cell_type": "markdown",
   "metadata": {},
   "source": [
    "What does that mean when a glacier is in equilibrium with its climate? It means that its volume doesn't change with time (which we can verify in the plots above), and that the total mass balance (averaged over the glacier area) is approximately equal to zero:"
   ]
  },
  {
   "cell_type": "code",
   "execution_count": null,
   "metadata": {},
   "outputs": [],
   "source": [
    "mb_model.get_specific_mb(fls=glacier_model.fls)  # units of mm water equivalent per year"
   ]
  },
  {
   "cell_type": "markdown",
   "metadata": {},
   "source": [
    "Close enough! We are in the following situation, where accumulation at the top compensates ablation at the bottom:\n",
    "\n",
    "<img src=\"https://raw.githubusercontent.com/OGGM/glacier-graphics/master/glacier_intro/png/glacier_03.png\" width=\"33%\" align=\"left\">\n",
    "<img src=\"https://raw.githubusercontent.com/OGGM/glacier-graphics/master/glacier_intro/png/glacier_04.png\" width=\"33%\" align=\"left\">\n",
    "<img src=\"https://raw.githubusercontent.com/OGGM/glacier-graphics/master/glacier_intro/png/glacier_05.png\" width=\"33%\" align=\"left\">\n",
    "\n",
    "*Source: OGGM-Edu's [open glacier graphics](http://edu.oggm.org/en/latest/glacier_basics.html), made by Anne Maussion ([Atelier les Gros yeux](http://atelierlesgrosyeux.com/))*."
   ]
  },
  {
   "cell_type": "markdown",
   "metadata": {},
   "source": [
    "Now, **a very common misconception is that a glacier which doesn't advance or retreat also doesn't move**. We are going to show that our glacier is well and alive, and does move quite a lot!"
   ]
  },
  {
   "cell_type": "code",
   "execution_count": null,
   "metadata": {},
   "outputs": [],
   "source": [
    "# plot the model glacier\n",
    "plt.figure(figsize=(18, 5))\n",
    "ax = plt.subplot(121)\n",
    "velocity = geometry.ice_velocity * cfg.SEC_IN_YEAR\n",
    "velocity.plot(ax=ax);\n",
    "plt.legend(); plt.xlabel('Distance along flowline [m]'); plt.ylabel('Altitude [m]'); plt.title('Ice velocity along the glacier (m yr$^{-1}$)');\n",
    "plt.subplot(122)\n",
    "edu.plot_glacier_graphics(num='06', title='Ice flow compensates for mass balance')"
   ]
  },
  {
   "cell_type": "markdown",
   "metadata": {},
   "source": [
    "What is happening here? If enough ice piles up, it will move under the influence of gravity - very much like a fluid! At equilibrium, this ice flow compensates exactly for the mass gain (it removes ice at the top) and the mass loss (it replaces ice melt at the bottom).\n",
    "\n",
    "A few meters per year is not enough for us to notice, but satellites can:  \n",
    "\n",
    "<img src=\"https://i1.wp.com/fyfluiddynamics.com/wp-content/uploads/2019/04/tumblr_pktim1sPnF1qckzoqo1_1280.gif\" width=\"40%\" align=\"left\">"
   ]
  },
  {
   "cell_type": "markdown",
   "metadata": {},
   "source": [
    "*Source: [FYFD](https://fyfluiddynamics.com/2019/04/the-movement-of-glaciers-is-driven-by-gravity-the/)*"
   ]
  },
  {
   "cell_type": "markdown",
   "metadata": {},
   "source": [
    "## Experiment: influence of the mass balance gradient on glacier size "
   ]
  },
  {
   "cell_type": "markdown",
   "metadata": {},
   "source": [
    "There are glaciers in many mountain areas of the world. To verify this by yourselves, we recommend to spend a few minutes on the [World Glacier Explorer](https://edu.oggm.org/en/latest/explorer.html), one of OGGM-Edu's web applications.\n",
    "\n",
    "In the app, we learned that glaciers can be located in maritime climates (regions with high amounts of precipitation and relatively warm) and in dry climates (rather dry and cold). These climate features can be translated in our simple framework by the mass balance gradient:\n",
    "- a strong mass balance gradient represents high amounts of solid precipitation and high amounts of melt (**maritime climate**)\n",
    "- a weak mass balance gradient represents low amounts of solid precipitation and low amounts of melt (**dry climate**)\n",
    "\n",
    "Now let's translate this into our model code:"
   ]
  },
  {
   "cell_type": "code",
   "execution_count": null,
   "metadata": {},
   "outputs": [],
   "source": [
    "# Define the mass balance gradients (MBG) we want to compare\n",
    "# We will calculate models with the MBGs: 1, 4 and 15 mm yr-1 m-1. \n",
    "# These values are realistic for real-world glaciers\n",
    "gradients = [1, 4, 15]\n",
    "\n",
    "# We use lists to store the output\n",
    "mb_profiles = []\n",
    "glacier_diagnostics = []\n",
    "glacier_evolution = []\n",
    "\n",
    "# equilibrium line altitude (ELA)\n",
    "ELA = 3000\n",
    "\n",
    "# Loop over the chosen gradients\n",
    "for gradient in gradients:\n",
    "    # Preparation of the mass balance model for each gradient \n",
    "    mb_model = LinearMassBalance(ELA, grad=gradient)\n",
    "\n",
    "    # Run the simulation\n",
    "    glacier_model = FlowlineModel(init_flowline, mb_model=mb_model, y0=0.)\n",
    "    _, ds = glacier_model.run_until_and_store(1200)\n",
    "\n",
    "    # Store the output for the plots later\n",
    "    mb_profiles.append(mb_model.get_annual_mb(surface_h) * cfg.SEC_IN_YEAR)\n",
    "    glacier_diagnostics.append(glacier_model.get_diagnostics())\n",
    "    glacier_evolution.append(ds)\n",
    "# Don't worry, this can take some time!"
   ]
  },
  {
   "cell_type": "markdown",
   "metadata": {},
   "source": [
    "This time, we ran the model for 1200 years instead of 600 - we will get back to this soon. Let's plot our glaciers first:"
   ]
  },
  {
   "cell_type": "code",
   "execution_count": null,
   "metadata": {},
   "outputs": [],
   "source": [
    "# Plot the results\n",
    "f, (ax1, ax2) = plt.subplots(1, 2, figsize=[14, 6], sharey=True)\n",
    "\n",
    "# Annual mass balance\n",
    "ax = ax1\n",
    "for gradient, profile in zip(gradients, mb_profiles):\n",
    "    ax.plot(profile, bed_h, label='Mass balance, grad={}'.format(gradient))\n",
    "# Add ELA, where mass balance = 0:\n",
    "ax.axhline(y=ELA, color='k', linestyle='--', linewidth=0.8, label='Equilibrium line altitude')\n",
    "ax.axvline(x=0, color='k', linestyle='--', linewidth=0.8)\n",
    "ax.set_xlabel('Annual mass balance (m yr-1)'); ax.set_ylabel('Altitude (m)'); ax.legend(loc='best');\n",
    "\n",
    "# Glacier profiles\n",
    "ax = ax2\n",
    "ax.plot(glacier_diagnostics[0].index, glacier_diagnostics[0].bed_h, color='k', label='Bedrock')\n",
    "for gradient, diagnostics in zip(gradients, glacier_diagnostics):\n",
    "    ax.plot(diagnostics.index, diagnostics.surface_h, label='Glacier surface, grad={}'.format(gradient));\n",
    "ax.set_xlabel('Distance along flowline [m]'); ax.set_ylabel('Altitude [m]'); ax.legend(loc='best');\n",
    "ax.axhline(y=ELA, color='k', linestyle='--', linewidth=0.8, label='Equilibrium line altitude');"
   ]
  },
  {
   "cell_type": "markdown",
   "metadata": {},
   "source": [
    "**Questions to address:**\n",
    "- Visually check the amount of melt at the terminus of the glacier. Compare this with melt values you can find in the literature.\n",
    "- Why are all glaciers symetrical around the equilibrium line altitude? In the jargon, the ratio of the area above the equilibrium line altitude (ELA) divided by the entire area is called the Accumulation Area Ratio (AAR): here, it is 50%. Compare this with values you can find in the literature, and explain which of the assumptions we used can lead to this rather unusual AAR.\n",
    "- Now look at the top of the glacier in the accumulation area. Based on your observations, explain what the \"mass-balance elevation feedback\" might be, and what role it plays in our case.\n",
    "- Try to make a list of the mechanisms responsible for the different glacier sizes."
   ]
  },
  {
   "cell_type": "markdown",
   "metadata": {},
   "source": [
    "### Bonus: temporal evolution of the glaciers"
   ]
  },
  {
   "cell_type": "markdown",
   "metadata": {},
   "source": [
    "Now let's plot the volume evolution of all three glaciers with time:"
   ]
  },
  {
   "cell_type": "code",
   "execution_count": null,
   "metadata": {},
   "outputs": [],
   "source": [
    "for gradient, ds in zip(gradients, glacier_evolution):\n",
    "    (ds.volume_m3 * 1e-9).plot(label='Glacier volume, grad={}'.format(gradient));\n",
    "plt.legend(); plt.xlabel('Years'); plt.ylabel('Volume (km$^3$)');"
   ]
  },
  {
   "cell_type": "markdown",
   "metadata": {},
   "source": [
    "**Questions to address:**\n",
    "- Compare how long each glacier needs to reach equilibrium. \n",
    "- Why does one glacier respond much faster than another one?\n",
    "- Now plot the ice velocity of all three glaciers at equilibrium. Discuss.  "
   ]
  },
  {
   "cell_type": "code",
   "execution_count": null,
   "metadata": {},
   "outputs": [],
   "source": [
    "for gradient, geometry in zip(gradients, glacier_diagnostics):\n",
    "    (geometry.ice_velocity * cfg.SEC_IN_YEAR).plot(label='Velocity, grad={}'.format(gradient));\n",
    "plt.legend(); plt.xlabel('Years'); plt.ylabel('Ice velocity (m yr$^{-1}$)');"
   ]
  },
  {
   "cell_type": "markdown",
   "metadata": {},
   "source": [
    "## Exercise: influence of glacier slope "
   ]
  },
  {
   "cell_type": "markdown",
   "metadata": {},
   "source": [
    "Now repeat the analyses by varying another parameter: glacier slope.\n",
    "\n",
    "**Questions to address:**\n",
    "- What is the influence of the glacier slope on how fast the glacier responds and can you explain this?\n",
    "- Plot the ice velocities. This might help to understand what happens.\n"
   ]
  },
  {
   "cell_type": "markdown",
   "metadata": {},
   "source": [
    "*For instructors: see the code below.*"
   ]
  },
  {
   "cell_type": "code",
   "execution_count": null,
   "metadata": {},
   "outputs": [],
   "source": [
    "# Reset the mass balance model to defaults. ELA at 3000m a.s.l., gradient 4 mm yr -1 m-1\n",
    "ELA = 3000  # equilibrium line altitude in meters above sea level\n",
    "altgrad = 4  # altitude gradient in mm/m\n",
    "mb_model = LinearMassBalance(ELA, grad=altgrad)\n",
    "\n",
    "# We use lists to store the output\n",
    "mb_profiles = []\n",
    "glacier_diagnostics = []\n",
    "glacier_evolution = []\n",
    "\n",
    "# To change the slope, we don't change anything to our bedrock parameters but the grid point resolution\n",
    "factors = [0.7, 1, 1.5]\n",
    "for factor in factors:\n",
    "    # Define our glacier flowine\n",
    "    init_flowline = RectangularBedFlowline(surface_h=surface_h, bed_h=bed_h, widths=widths, map_dx=map_dx * factor)\n",
    "    # The glacier evolution model and the run\n",
    "    glacier_model = FlowlineModel(init_flowline, mb_model=mb_model, y0=0.)\n",
    "\n",
    "    # Run the simulation\n",
    "    glacier_model = FlowlineModel(init_flowline, mb_model=mb_model, y0=0.)\n",
    "    _, ds = glacier_model.run_until_and_store(1200)\n",
    "\n",
    "    # Store the output for the plots later\n",
    "    mb_profiles.append(mb_model.get_annual_mb(surface_h) * cfg.SEC_IN_YEAR)\n",
    "    glacier_diagnostics.append(glacier_model.get_diagnostics())\n",
    "    glacier_evolution.append(ds)"
   ]
  },
  {
   "cell_type": "code",
   "execution_count": null,
   "metadata": {},
   "outputs": [],
   "source": [
    "# Glacier profiles\n",
    "f, ax = plt.subplots()\n",
    "for factor, diagnostics in zip(factors, glacier_diagnostics):\n",
    "    diagnostics.bed_h.plot(ax=ax, color='k', linestyle=':', label='')\n",
    "    diagnostics.surface_h.plot(ax=ax, label='Glacier surface, factor={}'.format(factor));\n",
    "ax.set_xlabel('Distance along flowline [m]'); ax.set_ylabel('Altitude [m]'); ax.legend(loc='best');\n",
    "ax.axhline(y=ELA, color='k', linestyle='--', linewidth=0.8, label='Equilibrium line altitude');"
   ]
  },
  {
   "cell_type": "code",
   "execution_count": null,
   "metadata": {},
   "outputs": [],
   "source": [
    "for factor, ds in zip(factors, glacier_evolution):\n",
    "    (ds.volume_m3 * 1e-9).plot(label='Glacier volume, factor={}'.format(factor));\n",
    "plt.legend(); plt.xlabel('Years'); plt.ylabel('Volume (km$^3$)');"
   ]
  },
  {
   "cell_type": "code",
   "execution_count": null,
   "metadata": {},
   "outputs": [],
   "source": [
    "for factor, geometry in zip(factors, glacier_diagnostics):\n",
    "    (geometry.ice_velocity * cfg.SEC_IN_YEAR).plot(label='Velocity, factor={}'.format(factor));\n",
    "plt.legend(); plt.xlabel('Years'); plt.ylabel('Ice velocity (m yr$^{-1}$)');"
   ]
  },
  {
   "cell_type": "markdown",
   "metadata": {},
   "source": [
    "**More questions that could be asked:**\n",
    "- What do you think are other factors that could influence how fast a glacier responds?\n",
    "- Repeat the analysis with the glacier length and compare it to the volume. What responds faster?"
   ]
  },
  {
   "cell_type": "markdown",
   "metadata": {},
   "source": [
    "# Part 2: real-world glacier experiments\n",
    "\n",
    "In the previous steps we showed how to use OGGM to answer theoretical questions about glaciers, using idealized experiments. In the following section we will explain how you can use OGGM to explore real glaciers and investigate their role as water resources. \n",
    "\n",
    "You will learn about\n",
    "* How to set up the model and run it on a real world glacer\n",
    "* Running simulations using different climate scenarios \n",
    "* The concept of **peak water** and how to calculate it using the OGGM\n",
    "\n",
    "## Glaciers as water resources"
   ]
  },
  {
   "cell_type": "markdown",
   "metadata": {},
   "source": [
    "# References"
   ]
  },
  {
   "cell_type": "code",
   "execution_count": null,
   "metadata": {},
   "outputs": [],
   "source": []
  }
 ],
 "metadata": {
  "kernelspec": {
   "display_name": "Python 3",
   "language": "python",
   "name": "python3"
  },
  "language_info": {
   "codemirror_mode": {
    "name": "ipython",
    "version": 3
   },
   "file_extension": ".py",
   "mimetype": "text/x-python",
   "name": "python",
   "nbconvert_exporter": "python",
   "pygments_lexer": "ipython3",
   "version": "3.8.5"
  },
  "toc": {
   "base_numbering": 1,
   "nav_menu": {},
   "number_sections": true,
   "sideBar": true,
   "skip_h1_title": false,
   "title_cell": "Table of Contents",
   "title_sidebar": "Contents",
   "toc_cell": true,
   "toc_position": {
    "height": "calc(100% - 180px)",
    "left": "10px",
    "top": "150px",
    "width": "248.182px"
   },
   "toc_section_display": true,
   "toc_window_display": true
  }
 },
 "nbformat": 4,
 "nbformat_minor": 4
}
